{
 "cells": [
  {
   "cell_type": "code",
   "execution_count": 1,
   "metadata": {},
   "outputs": [
    {
     "data": {
      "text/plain": [
       "True"
      ]
     },
     "execution_count": 1,
     "metadata": {},
     "output_type": "execute_result"
    }
   ],
   "source": [
    "import matplotlib.pyplot as plt\n",
    "\n",
    "import numpy as np\n",
    "import os\n",
    "from ctd.comparison.analysis.tt.tt import Analysis_TT \n",
    "from ctd.comparison.analysis.dt.dt import Analysis_DT\n",
    "# Import pca\n",
    "import dotenv\n",
    "from ctd.comparison.comparison import Comparison\n",
    "import torch\n",
    "from sklearn.decomposition import PCA\n",
    "from sklearn.linear_model import LinearRegression\n",
    "from sklearn.metrics import r2_score\n",
    "dotenv.load_dotenv(dotenv.find_dotenv())"
   ]
  },
  {
   "cell_type": "code",
   "execution_count": 2,
   "metadata": {},
   "outputs": [
    {
     "name": "stdout",
     "output_type": "stream",
     "text": [
      "/home/csverst/Github/CtDBenchmark/\n"
     ]
    }
   ],
   "source": [
    "\n",
    "\n",
    "HOME_DIR = os.environ['HOME_DIR']\n",
    "print(HOME_DIR)\n",
    "pathTT_3BFF = HOME_DIR + 'content/trained_models/task-trained/tt_3bff/'\n",
    "pathTT_MT = HOME_DIR + 'content/trained_models/task-trained/tt_MultiTask/'\n",
    "pathTT_RT = HOME_DIR + 'content/trained_models/task-trained/tt_RandomTarget/'\n",
    "\n",
    "an_TT_MT = Analysis_TT(run_name = \"TT_MT\", filepath = pathTT_MT)\n",
    "\n",
    "path_GRU_Sweep_MT = pathTT_MT + \"20250131_MultiTask_GRU_Viz/\"\n",
    "subfolders_GRU_MT = [f.path for f in os.scandir(path_GRU_Sweep_MT) if f.is_dir()]\n",
    "\n",
    "path_LFADS_Sweep_MT = pathTT_MT + \"20250130_MultiTask_LFADS_Viz/\"\n",
    "subfolders_LFADS_MT = [f.path for f in os.scandir(path_LFADS_Sweep_MT) if f.is_dir()]\n",
    "\n",
    "path_LDS_Sweep_MT = pathTT_MT + \"20250131_MultiTask_LDS_Viz/\"\n",
    "subfolders_LDS_MT = [f.path for f in os.scandir(path_LDS_Sweep_MT) if f.is_dir()]\n",
    "\n",
    "\n"
   ]
  },
  {
   "cell_type": "code",
   "execution_count": 3,
   "metadata": {},
   "outputs": [],
   "source": [
    "comparison_MT = Comparison(comparison_tag=\"MultiTask\")\n",
    "comparison_MT.load_analysis(an_TT_MT, reference_analysis=True, group = \"TT\")\n",
    "\n",
    "for subfolder in subfolders_GRU_MT:\n",
    "    subfolder = subfolder + \"/\"\n",
    "    analysis_GRU = Analysis_DT.create(run_name = \"GRU\", filepath = subfolder, model_type = \"SAE\")\n",
    "    comparison_MT.load_analysis(analysis_GRU, group = \"GRU\")\n",
    "\n",
    "for subfolder in subfolders_LFADS_MT:\n",
    "    subfolder = subfolder + \"/\"\n",
    "    analysis_LFADS = Analysis_DT.create(run_name = \"LFADS\", filepath = subfolder, model_type = \"LFADS\")\n",
    "    comparison_MT.load_analysis(analysis_LFADS, group = \"LFADS\")\n",
    "\n",
    "for subfolder in subfolders_LDS_MT:\n",
    "    subfolder = subfolder + \"/\"\n",
    "    analysis_LDS = Analysis_DT.create(run_name = \"LDS\", filepath = subfolder, model_type = \"SAE\")\n",
    "    comparison_MT.load_analysis(analysis_LDS, group = \"LDS\")\n",
    "    \n",
    "comparison_MT.regroup()"
   ]
  },
  {
   "cell_type": "code",
   "execution_count": 4,
   "metadata": {},
   "outputs": [
    {
     "name": "stdout",
     "output_type": "stream",
     "text": [
      "MT\n",
      "\n",
      "Working on 1 of 4: GRU\n",
      "CO-BPS: 0.13999225199222565\n",
      "\n",
      "Working on 2 of 4: LDS\n",
      "CO-BPS: 0.09399600327014923\n",
      "\n",
      "Working on 3 of 4: LFADS\n",
      "CO-BPS: 0.1207796186208725\n",
      "\n",
      "Working on 4 of 4: TT_MT\n"
     ]
    }
   ],
   "source": [
    "print(\"MT\")\n",
    "metrics_MT = comparison_MT.compute_metrics(metric_list = [\"co-bps\"])\n"
   ]
  }
 ],
 "metadata": {
  "kernelspec": {
   "display_name": "ctdCuda12",
   "language": "python",
   "name": "python3"
  },
  "language_info": {
   "codemirror_mode": {
    "name": "ipython",
    "version": 3
   },
   "file_extension": ".py",
   "mimetype": "text/x-python",
   "name": "python",
   "nbconvert_exporter": "python",
   "pygments_lexer": "ipython3",
   "version": "3.10.14"
  }
 },
 "nbformat": 4,
 "nbformat_minor": 2
}
