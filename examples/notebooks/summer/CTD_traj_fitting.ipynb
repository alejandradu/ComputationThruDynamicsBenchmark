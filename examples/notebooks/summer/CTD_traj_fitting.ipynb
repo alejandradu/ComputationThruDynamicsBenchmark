{
 "cells": [
  {
   "cell_type": "code",
   "execution_count": 7,
   "id": "eaa3cae1",
   "metadata": {},
   "outputs": [],
   "source": [
    "import random\n",
    "import dotenv\n",
    "import pathlib\n",
    "import os\n",
    "import pandas as pd\n",
    "import matplotlib.pyplot as plt\n",
    "import torch\n",
    "import numpy as np\n",
    "import torch\n",
    "\n",
    "random.seed(2024)\n",
    "dotenv.load_dotenv(override=True)\n",
    "\n",
    "HOME_DIR = os.getenv(\"HOME_DIR\")\n",
    "\n",
    "from ctd.traj_fitting.traj_fitting import *"
   ]
  },
  {
   "cell_type": "code",
   "execution_count": 8,
   "id": "0f26597f",
   "metadata": {},
   "outputs": [],
   "source": [
    "paths = [\"/scratch/gpfs/ad2002/content/datasets/dt/20240726_FullRankRNN_MultiTask_CDM12_simple_500epoch/latent_size=512 weight_decay=1e-08 learning_rate=0.0001 max_epochs=500 log_every_n_steps=8 batch_size=250 n_samples=2000 num_workers=1 task_list=['CDM1', 'CDM2'] dataset_name=CDM1CDM2 noise=0.05 loss_func=SimpleMultiTaskLoss bin_size=5 /n_neurons_50_obs_noise_pseudoPoisson_dispersion_1.0_seed_0.h5\"]"
   ]
  },
  {
   "cell_type": "code",
   "execution_count": 11,
   "id": "5a3fb828",
   "metadata": {},
   "outputs": [
    {
     "name": "stdout",
     "output_type": "stream",
     "text": [
      "<class 'numpy.ndarray'>\n"
     ]
    },
    {
     "ename": "AttributeError",
     "evalue": "'numpy.ndarray' object has no attribute 'detach'",
     "output_type": "error",
     "traceback": [
      "\u001b[0;31m---------------------------------------------------------------------------\u001b[0m",
      "\u001b[0;31mAttributeError\u001b[0m                            Traceback (most recent call last)",
      "Cell \u001b[0;32mIn[11], line 41\u001b[0m\n\u001b[1;32m     38\u001b[0m     n_trials, n_times, n_lat_dim \u001b[38;5;241m=\u001b[39m train_lat\u001b[38;5;241m.\u001b[39mshape\n\u001b[1;32m     39\u001b[0m     train_lat \u001b[38;5;241m=\u001b[39m train_lat\u001b[38;5;241m.\u001b[39mdetach()\u001b[38;5;241m.\u001b[39mnumpy()\n\u001b[0;32m---> 41\u001b[0m \u001b[43mtraj_fit\u001b[49m\u001b[43m(\u001b[49m\u001b[43mpaths\u001b[49m\u001b[43m)\u001b[49m\n",
      "Cell \u001b[0;32mIn[11], line 39\u001b[0m, in \u001b[0;36mtraj_fit\u001b[0;34m(paths)\u001b[0m\n\u001b[1;32m     32\u001b[0m \u001b[38;5;66;03m# define low or full rank RNN model \u001b[39;00m\n\u001b[1;32m     33\u001b[0m \n\u001b[1;32m     34\u001b[0m \u001b[38;5;66;03m# prob define a training function??\u001b[39;00m\n\u001b[1;32m     35\u001b[0m \n\u001b[1;32m     36\u001b[0m \u001b[38;5;66;03m# 1 define another train function\u001b[39;00m\n\u001b[1;32m     38\u001b[0m n_trials, n_times, n_lat_dim \u001b[38;5;241m=\u001b[39m train_lat\u001b[38;5;241m.\u001b[39mshape\n\u001b[0;32m---> 39\u001b[0m train_lat \u001b[38;5;241m=\u001b[39m \u001b[43mtrain_lat\u001b[49m\u001b[38;5;241;43m.\u001b[39;49m\u001b[43mdetach\u001b[49m()\u001b[38;5;241m.\u001b[39mnumpy()\n",
      "\u001b[0;31mAttributeError\u001b[0m: 'numpy.ndarray' object has no attribute 'detach'"
     ]
    }
   ],
   "source": [
    "\"\"\"TRANSFER THIS LATER TO THE REPO\n",
    "Implement the LINT method for fitting a model to the trajectories \n",
    "produced by a task-optimized model\"\"\"\n",
    " \n",
    "import os\n",
    "import h5py\n",
    "import numpy as np\n",
    "import torch\n",
    "\n",
    "    \n",
    "def load_trajs(path, seed=0):\n",
    "    \n",
    "    # NOTE: this will load the trajs for the same inputs as for\n",
    "    # the training trials\n",
    "    \n",
    "    # Returns a numpy array not a tensor\n",
    "    \n",
    "    with h5py.File(path, 'r') as h5_file:\n",
    "        train_lat = h5_file[\"train_latents\"][:]\n",
    "        valid_lat = h5_file[\"valid_latents\"][:]\n",
    "\n",
    "    return train_lat, valid_lat\n",
    "    \n",
    "    \n",
    "def traj_fit(paths):\n",
    "    \n",
    "    # TODO: can prob include setup to build the path of date and configs\n",
    "    \n",
    "    for path in paths:\n",
    "        train_lat, valid_lat = load_trajs(path)\n",
    "        \n",
    "    print(type(train_lat))\n",
    "    \n",
    "    # define low or full rank RNN model \n",
    "    \n",
    "    # prob define a training function??\n",
    "    \n",
    "    # 1 define another train function\n",
    "    \n",
    "    n_trials, n_times, n_lat_dim = train_lat.shape\n",
    "    train_lat = train_lat.detach().numpy()\n",
    "    \n",
    "traj_fit(paths)"
   ]
  },
  {
   "cell_type": "code",
   "execution_count": null,
   "id": "13ff619c",
   "metadata": {},
   "outputs": [],
   "source": []
  }
 ],
 "metadata": {
  "kernelspec": {
   "display_name": "ctd [~/.conda/envs/ctd/]",
   "language": "python",
   "name": "conda_ctd"
  },
  "language_info": {
   "codemirror_mode": {
    "name": "ipython",
    "version": 3
   },
   "file_extension": ".py",
   "mimetype": "text/x-python",
   "name": "python",
   "nbconvert_exporter": "python",
   "pygments_lexer": "ipython3",
   "version": "3.10.14"
  }
 },
 "nbformat": 4,
 "nbformat_minor": 5
}
