{
 "cells": [
  {
   "cell_type": "code",
   "execution_count": null,
   "metadata": {},
   "outputs": [],
   "source": [
    "import random\n",
    "import dotenv\n",
    "import pathlib\n",
    "import os\n",
    "import pandas as pd\n",
    "import matplotlib.pyplot as plt\n",
    "import torch\n",
    "import numpy as np\n",
    "import torch\n",
    "\n",
    "random.seed(2024)\n",
    "dotenv.load_dotenv(override=True)\n",
    "\n",
    "HOME_DIR = os.getenv(\"HOME_DIR\")\n",
    "\n",
    "from ctd.traj_fitting.traj_fitting import *"
   ]
  },
  {
   "cell_type": "code",
   "execution_count": null,
   "metadata": {},
   "outputs": [],
   "source": [
    "paths = [\"/scratch/gpfs/ad2002/content/datasets/dt/20240726_FullRankRNN_MultiTask_CDM12_simple_500epoch/latent_size=512 weight_decay=1e-08 learning_rate=0.0001 max_epochs=500 log_every_n_steps=8 batch_size=250 n_samples=2000 num_workers=1 task_list=['CDM1', 'CDM2'] dataset_name=CDM1CDM2 noise=0.05 loss_func=SimpleMultiTaskLoss bin_size=5 /n_neurons_50_obs_noise_pseudoPoisson_dispersion_1.0_seed_0.h5\"]\n",
    "traj_fit(paths)\n"
   ]
  }
 ],
 "metadata": {
  "language_info": {
   "name": "python"
  }
 },
 "nbformat": 4,
 "nbformat_minor": 2
}
