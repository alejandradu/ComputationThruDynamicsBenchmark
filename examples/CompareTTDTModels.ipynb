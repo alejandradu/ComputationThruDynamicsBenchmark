{
 "cells": [
  {
   "cell_type": "code",
   "execution_count": 1,
   "metadata": {},
   "outputs": [
    {
     "name": "stdout",
     "output_type": "stream",
     "text": [
      "/home/csverst/Github/CtDBenchmark/\n"
     ]
    }
   ],
   "source": [
    "from ctd.comparison.analysis.tt.tt import Analysis_TT\n",
    "from ctd.comparison.analysis.dt.dt import Analysis_DT\n",
    "from ctd.comparison.comparison import Comparison\n",
    "import dotenv\n",
    "import os\n",
    "import sys\n",
    "# import environment variables\n",
    "dotenv.load_dotenv(override=True)\n",
    "HOME_DIR = os.getenv(\"HOME_DIR\")\n",
    "print(HOME_DIR)\n"
   ]
  },
  {
   "cell_type": "code",
   "execution_count": 3,
   "metadata": {},
   "outputs": [],
   "source": [
    "tt_path = HOME_DIR + \"content/trained_models/task-trained/tt_3bff/\"\n",
    "tt_analysis = Analysis_TT(run_name = \"tt_3bff\",filepath=tt_path)\n",
    "\n",
    "# REPLACE THESE PATHS WITH YOUR OWN DT MODEL PATHS\n",
    "#gru_sweep_path = tt_path + \"n_neurons_50_obs_noise_pseudoPoisson_dispersion_1.0_see/20240611_GRU_Resim3bff_Test/\"\n",
    "#node_sweep_path = tt_path + \"n_neurons_50_obs_noise_pseudoPoisson_dispersion_1.0_see/20240611_NODE_Resim3bff_Test/\"\n",
    "#lds_sweep_path = tt_path + \"n_neurons_50_obs_noise_pseudoPoisson_dispersion_1.0_see/20240611_LDS_Resim3bff_Test/\"\n",
    "\n",
    "gru_subfolders = [f.path for f in os.scandir(gru_sweep_path) if f.is_dir()]\n",
    "node_subfolders = [f.path for f in os.scandir(node_sweep_path) if f.is_dir()]\n",
    "lds_subfolders = [f.path for f in os.scandir(lds_sweep_path) if f.is_dir()]\n"
   ]
  },
  {
   "cell_type": "code",
   "execution_count": 4,
   "metadata": {},
   "outputs": [],
   "source": [
    "comparison = Comparison(comparison_tag = \"3BFF_GRU\")\n",
    "comparison.load_analysis(tt_analysis, group = \"TT\", reference_analysis=True)\n",
    "for subfolder in gru_subfolders:\n",
    "    subfolder = subfolder + \"/\"\n",
    "    analysis_GRU = Analysis_DT(run_name = \"GRU\", filepath = subfolder, model_type = \"SAE\")\n",
    "    comparison.load_analysis(analysis_GRU, group = \"GRU\")\n",
    "\n",
    "for subfolder in node_subfolders:\n",
    "    subfolder = subfolder + \"/\"\n",
    "    analysis_Node = Analysis_DT(run_name = \"Node\", filepath = subfolder, model_type = \"SAE\")\n",
    "    comparison.load_analysis(analysis_Node, group = \"Node\")\n",
    "\n",
    "for subfolder in lds_subfolders:\n",
    "    subfolder = subfolder + \"/\"\n",
    "    analysis_LDS = Analysis_DT(run_name = \"LDS\", filepath = subfolder, model_type = \"SAE\")\n",
    "    comparison.load_analysis(analysis_LDS, group = \"LDS\")\n",
    "    "
   ]
  },
  {
   "cell_type": "code",
   "execution_count": 5,
   "metadata": {},
   "outputs": [
    {
     "name": "stdout",
     "output_type": "stream",
     "text": [
      "Working on 1 of 16: tt_3bff\n",
      "Group: TT\n",
      "Working on 2 of 16: GRU\n",
      "Group: GRU\n",
      "Rate R2: 0.9133606527054609\n",
      "State R2: 0.866352288843249\n",
      "Working on 3 of 16: GRU\n",
      "Group: GRU\n",
      "Rate R2: 0.9171255605383669\n",
      "State R2: 0.8853199012890199\n",
      "Working on 4 of 16: GRU\n",
      "Group: GRU\n",
      "Rate R2: 0.9135612366919207\n",
      "State R2: 0.8707326119942684\n",
      "Working on 5 of 16: GRU\n",
      "Group: GRU\n",
      "Rate R2: 0.9244973619500358\n",
      "State R2: 0.8744603641141447\n",
      "Working on 6 of 16: GRU\n",
      "Group: GRU\n",
      "Rate R2: 0.9141106363012967\n",
      "State R2: 0.8762176729015114\n",
      "Working on 7 of 16: Node\n",
      "Group: Node\n",
      "Rate R2: 0.893555287700513\n",
      "State R2: 0.9570788896597514\n",
      "Working on 8 of 16: Node\n",
      "Group: Node\n",
      "Rate R2: 0.8743699681810714\n",
      "State R2: 0.935922340748671\n",
      "Working on 9 of 16: Node\n",
      "Group: Node\n",
      "Rate R2: 0.8833041541828948\n",
      "State R2: 0.9426210912655638\n",
      "Working on 10 of 16: Node\n",
      "Group: Node\n",
      "Rate R2: 0.8786322871193798\n",
      "State R2: 0.9518648520657581\n",
      "Working on 11 of 16: Node\n",
      "Group: Node\n",
      "Rate R2: 0.8867720218233734\n",
      "State R2: 0.9501432388814434\n",
      "Working on 12 of 16: LDS\n",
      "Group: LDS\n",
      "Rate R2: 0.35244572505532057\n",
      "State R2: 0.44579466742095225\n",
      "Working on 13 of 16: LDS\n",
      "Group: LDS\n",
      "Rate R2: 0.3479448399753688\n",
      "State R2: 0.44909641661740674\n",
      "Working on 14 of 16: LDS\n",
      "Group: LDS\n",
      "Rate R2: 0.3512302235966473\n",
      "State R2: 0.4473281021056999\n",
      "Working on 15 of 16: LDS\n",
      "Group: LDS\n",
      "Rate R2: 0.349880745433482\n",
      "State R2: 0.45096546943048893\n",
      "Working on 16 of 16: LDS\n",
      "Group: LDS\n",
      "Rate R2: 0.34056293378815583\n",
      "State R2: 0.44492857995591695\n"
     ]
    },
    {
     "data": {
      "text/plain": [
       "array([[0.        , 0.        ],\n",
       "       [0.91336065, 0.86635229],\n",
       "       [0.91712556, 0.8853199 ],\n",
       "       [0.91356124, 0.87073261],\n",
       "       [0.92449736, 0.87446036],\n",
       "       [0.91411064, 0.87621767],\n",
       "       [0.89355529, 0.95707889],\n",
       "       [0.87436997, 0.93592234],\n",
       "       [0.88330415, 0.94262109],\n",
       "       [0.87863229, 0.95186485],\n",
       "       [0.88677202, 0.95014324],\n",
       "       [0.35244573, 0.44579467],\n",
       "       [0.34794484, 0.44909642],\n",
       "       [0.35123022, 0.4473281 ],\n",
       "       [0.34988075, 0.45096547],\n",
       "       [0.34056293, 0.44492858]])"
      ]
     },
     "execution_count": 5,
     "metadata": {},
     "output_type": "execute_result"
    },
    {
     "data": {
      "image/png": "[encoded data removed]",
      "text/plain": [
       "<Figure size 640x480 with 1 Axes>"
      ]
     },
     "metadata": {},
     "output_type": "display_data"
    }
   ],
   "source": [
    "plot_dict = {\n",
    "    \"save_pdf\": True,\n",
    "    \"ax_lim\": [0.15, 1.05],\n",
    "    \"marker\": \"o\",\n",
    "}\n",
    "comparison.compare_rate_state_r2(plot_dict=plot_dict)"
   ]
  }
 ],
 "metadata": {
  "kernelspec": {
   "display_name": "build5",
   "language": "python",
   "name": "python3"
  },
  "language_info": {
   "codemirror_mode": {
    "name": "ipython",
    "version": 3
   },
   "file_extension": ".py",
   "mimetype": "text/x-python",
   "name": "python",
   "nbconvert_exporter": "python",
   "pygments_lexer": "ipython3",
   "version": "3.10.13"
  }
 },
 "nbformat": 4,
 "nbformat_minor": 2
}
